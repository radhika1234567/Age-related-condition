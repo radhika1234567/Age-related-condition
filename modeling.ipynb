{
 "cells": [
  {
   "cell_type": "code",
   "execution_count": 36,
   "id": "0f78d2b7",
   "metadata": {},
   "outputs": [],
   "source": [
    "import pandas as pd\n",
    "import warnings\n",
    "import matplotlib.pyplot as plt\n",
    "warnings.filterwarnings('ignore')\n",
    "from sklearn.metrics import confusion_matrix, accuracy_score, precision_score, f1_score, recall_score"
   ]
  },
  {
   "cell_type": "code",
   "execution_count": 19,
   "id": "b07453de",
   "metadata": {},
   "outputs": [],
   "source": [
    "train_df=pd.read_csv(\"cleaned_data\")"
   ]
  },
  {
   "cell_type": "code",
   "execution_count": 20,
   "id": "907a308a",
   "metadata": {},
   "outputs": [
    {
     "data": {
      "text/plain": [
       "(617, 58)"
      ]
     },
     "execution_count": 20,
     "metadata": {},
     "output_type": "execute_result"
    }
   ],
   "source": [
    "train_df.shape"
   ]
  },
  {
   "cell_type": "code",
   "execution_count": 21,
   "id": "c095bfd1",
   "metadata": {},
   "outputs": [
    {
     "data": {
      "text/plain": [
       "Index(['Id', 'AB', 'AF', 'AH', 'AM', 'AR', 'AX', 'AY', 'AZ', 'BC', 'BD ', 'BN',\n",
       "       'BP', 'BQ', 'BR', 'BZ', 'CB', 'CC', 'CD ', 'CF', 'CH', 'CL', 'CR', 'CS',\n",
       "       'CU', 'CW ', 'DA', 'DE', 'DF', 'DH', 'DI', 'DL', 'DN', 'DU', 'DV', 'DY',\n",
       "       'EB', 'EE', 'EG', 'EH', 'EJ', 'EL', 'EP', 'EU', 'FC', 'FD ', 'FE', 'FI',\n",
       "       'FL', 'FR', 'FS', 'GB', 'GE', 'GF', 'GH', 'GI', 'GL', 'Class'],\n",
       "      dtype='object')"
      ]
     },
     "execution_count": 21,
     "metadata": {},
     "output_type": "execute_result"
    }
   ],
   "source": [
    "train_df.columns"
   ]
  },
  {
   "cell_type": "code",
   "execution_count": 22,
   "id": "f1e2bd27",
   "metadata": {},
   "outputs": [],
   "source": [
    "X=train_df.iloc[:,1:57]"
   ]
  },
  {
   "cell_type": "code",
   "execution_count": 23,
   "id": "b7b70327",
   "metadata": {},
   "outputs": [
    {
     "data": {
      "text/plain": [
       "Index(['AB', 'AF', 'AH', 'AM', 'AR', 'AX', 'AY', 'AZ', 'BC', 'BD ', 'BN', 'BP',\n",
       "       'BQ', 'BR', 'BZ', 'CB', 'CC', 'CD ', 'CF', 'CH', 'CL', 'CR', 'CS', 'CU',\n",
       "       'CW ', 'DA', 'DE', 'DF', 'DH', 'DI', 'DL', 'DN', 'DU', 'DV', 'DY', 'EB',\n",
       "       'EE', 'EG', 'EH', 'EJ', 'EL', 'EP', 'EU', 'FC', 'FD ', 'FE', 'FI', 'FL',\n",
       "       'FR', 'FS', 'GB', 'GE', 'GF', 'GH', 'GI', 'GL'],\n",
       "      dtype='object')"
      ]
     },
     "execution_count": 23,
     "metadata": {},
     "output_type": "execute_result"
    }
   ],
   "source": [
    "X.columns"
   ]
  },
  {
   "cell_type": "code",
   "execution_count": 24,
   "id": "d8ed4d3a",
   "metadata": {},
   "outputs": [],
   "source": [
    "y=train_df.iloc[:,57]"
   ]
  },
  {
   "cell_type": "code",
   "execution_count": 25,
   "id": "72602efe",
   "metadata": {},
   "outputs": [
    {
     "data": {
      "text/plain": [
       "0      1\n",
       "1      0\n",
       "2      0\n",
       "3      0\n",
       "4      1\n",
       "      ..\n",
       "612    0\n",
       "613    0\n",
       "614    0\n",
       "615    0\n",
       "616    0\n",
       "Name: Class, Length: 617, dtype: int64"
      ]
     },
     "execution_count": 25,
     "metadata": {},
     "output_type": "execute_result"
    }
   ],
   "source": [
    "y"
   ]
  },
  {
   "cell_type": "code",
   "execution_count": 26,
   "id": "ffa5678e",
   "metadata": {},
   "outputs": [],
   "source": [
    "from sklearn.model_selection import train_test_split"
   ]
  },
  {
   "cell_type": "code",
   "execution_count": 27,
   "id": "cb6508e1",
   "metadata": {},
   "outputs": [],
   "source": [
    "X_train,X_test,y_train,y_test=train_test_split(X,y,test_size=0.2,random_state=42)\n"
   ]
  },
  {
   "cell_type": "code",
   "execution_count": 28,
   "id": "ae79e396",
   "metadata": {},
   "outputs": [],
   "source": [
    "from sklearn.ensemble import RandomForestClassifier\n",
    "from sklearn.preprocessing import MinMaxScaler\n",
    "from sklearn.preprocessing import StandardScaler\n"
   ]
  },
  {
   "cell_type": "code",
   "execution_count": 29,
   "id": "288aec7d",
   "metadata": {},
   "outputs": [],
   "source": [
    "sc=MinMaxScaler()\n",
    "X_train = sc.fit_transform(X_train)\n",
    "X_test = sc.transform(X_test)"
   ]
  },
  {
   "cell_type": "code",
   "execution_count": 30,
   "id": "99c63f59",
   "metadata": {},
   "outputs": [],
   "source": [
    "model = RandomForestClassifier()"
   ]
  },
  {
   "cell_type": "code",
   "execution_count": 31,
   "id": "bb16b663",
   "metadata": {},
   "outputs": [
    {
     "name": "stdout",
     "output_type": "stream",
     "text": [
      "Accuracy: 0.9516129032258065\n"
     ]
    }
   ],
   "source": [
    "model.fit(X_train, y_train)\n",
    "print('Accuracy:', model.score(X_test, y_test))"
   ]
  },
  {
   "cell_type": "code",
   "execution_count": 32,
   "id": "0c6fcff8",
   "metadata": {},
   "outputs": [
    {
     "name": "stdout",
     "output_type": "stream",
     "text": [
      "Classification Report:\n",
      "              precision    recall  f1-score   support\n",
      "\n",
      "           0       0.95      0.99      0.97       101\n",
      "           1       0.95      0.78      0.86        23\n",
      "\n",
      "    accuracy                           0.95       124\n",
      "   macro avg       0.95      0.89      0.91       124\n",
      "weighted avg       0.95      0.95      0.95       124\n",
      "\n",
      "Confusion Matrix:\n",
      "[[100   1]\n",
      " [  5  18]]\n"
     ]
    }
   ],
   "source": [
    "from sklearn.metrics import classification_report, confusion_matrix\n",
    "\n",
    "y_pred = model.predict(X_test)\n",
    "\n",
    "# Create a classification report for the model.\n",
    "print('Classification Report:')\n",
    "print(classification_report(y_test, y_pred))\n",
    "\n",
    "# Create a confusion matrix for the model.\n",
    "print('Confusion Matrix:')\n",
    "print(confusion_matrix(y_test, y_pred))"
   ]
  },
  {
   "cell_type": "markdown",
   "id": "2814c645",
   "metadata": {},
   "source": [
    "The model achieved an accuracy of 95% on the test set, with high precision, recall, and F1-scores for class 0. However, the model had a lower recall for class 1, indicating that it may have difficulty correctly identifying instances of class 1 compared to class 0."
   ]
  },
  {
   "cell_type": "code",
   "execution_count": 33,
   "id": "6fe89dc9",
   "metadata": {},
   "outputs": [
    {
     "data": {
      "text/plain": [
       "array([0.03785424, 0.02776087, 0.00585705, 0.01689947, 0.00415546,\n",
       "       0.0134025 , 0.0054517 , 0.00722389, 0.02785126, 0.00965986,\n",
       "       0.01256035, 0.00918296, 0.03033911, 0.01228851, 0.00447512,\n",
       "       0.01094598, 0.01817722, 0.01301184, 0.01078018, 0.00979403,\n",
       "       0.00450703, 0.03988336, 0.00722355, 0.01452111, 0.00519729,\n",
       "       0.05674687, 0.02387407, 0.00550902, 0.01566522, 0.04403054,\n",
       "       0.01866842, 0.00895431, 0.09909917, 0.00192368, 0.0117348 ,\n",
       "       0.00925626, 0.02424497, 0.01078277, 0.03889644, 0.00098199,\n",
       "       0.00819618, 0.00989974, 0.00776917, 0.00967686, 0.02192297,\n",
       "       0.02274487, 0.01192677, 0.04403716, 0.03676762, 0.00795424,\n",
       "       0.01061909, 0.00549946, 0.01320575, 0.01271812, 0.00788379,\n",
       "       0.03980576])"
      ]
     },
     "execution_count": 33,
     "metadata": {},
     "output_type": "execute_result"
    }
   ],
   "source": [
    "model.feature_importances_\n"
   ]
  },
  {
   "cell_type": "code",
   "execution_count": 37,
   "id": "94c6e9d6",
   "metadata": {},
   "outputs": [
    {
     "data": {
      "image/png": "[encoded data removed]",
      "text/plain": [
       "<Figure size 1000x600 with 1 Axes>"
      ]
     },
     "metadata": {},
     "output_type": "display_data"
    }
   ],
   "source": [
    "# Get the feature importances.\n",
    "importances = model.feature_importances_\n",
    "\n",
    "# Get the indices of the top 20 features.\n",
    "top_indices = importances.argsort()[::-1][:20]\n",
    "\n",
    "# Get the names of the top 20 features.\n",
    "top_feature_names = X.columns[top_indices]\n",
    "\n",
    "# Get the importances of the top 20 features.\n",
    "top_importances = importances[top_indices]\n",
    "\n",
    "plt.figure(figsize = (10, 6))\n",
    "plt.bar(range(len(top_feature_names)), top_importances)\n",
    "plt.xticks(range(len(top_feature_names)), top_feature_names, rotation = 90)\n",
    "plt.xlabel('Features')\n",
    "plt.ylabel('Importance')\n",
    "plt.title('Top 20 Feature Importance')\n",
    "plt.tight_layout()\n",
    "plt.show()"
   ]
  },
  {
   "cell_type": "code",
   "execution_count": null,
   "id": "6b9451e9",
   "metadata": {},
   "outputs": [],
   "source": []
  }
 ],
 "metadata": {
  "kernelspec": {
   "display_name": "Python 3 (ipykernel)",
   "language": "python",
   "name": "python3"
  },
  "language_info": {
   "codemirror_mode": {
    "name": "ipython",
    "version": 3
   },
   "file_extension": ".py",
   "mimetype": "text/x-python",
   "name": "python",
   "nbconvert_exporter": "python",
   "pygments_lexer": "ipython3",
   "version": "3.10.9"
  }
 },
 "nbformat": 4,
 "nbformat_minor": 5
}
